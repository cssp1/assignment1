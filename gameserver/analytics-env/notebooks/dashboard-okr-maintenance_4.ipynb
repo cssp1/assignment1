{
 "cells": [
  {
   "cell_type": "code",
   "execution_count": 1,
   "metadata": {},
   "outputs": [
    {
     "name": "stdout",
     "output_type": "stream",
     "text": [
      "Dashboard updated Sat, 12 Mar 2022 at 18:04:09 UTC\n"
     ]
    }
   ],
   "source": [
    "# setup\n",
    "import time, os, calendar, sys\n",
    "import envkey\n",
    "import pandas as pd\n",
    "import numpy as np\n",
    "import matplotlib.pyplot as plt\n",
    "import matplotlib.dates as mdates\n",
    "%matplotlib inline\n",
    "from pandas.plotting import register_matplotlib_converters\n",
    "import seaborn as sns\n",
    "from sqlalchemy.engine import create_engine\n",
    "import math\n",
    "import datetime\n",
    "\n",
    "# allow importing modules from ../..\n",
    "sys.path.insert(1, os.path.join(sys.path[0], '../..'))\n",
    "\n",
    "register_matplotlib_converters()\n",
    "sns.set(rc={'figure.figsize':(11, 4)})\n",
    "\n",
    "ANALYTICS_MYSQL_ENDPOINT = os.getenv('ANALYTICS_MYSQL_ENDPOINT')\n",
    "ANALYTICS_MYSQL_PASSWORD = os.getenv('ANALYTICS_MYSQL_PASSWORD')\n",
    "\n",
    "if not (ANALYTICS_MYSQL_ENDPOINT and ANALYTICS_MYSQL_PASSWORD):\n",
    "    raise Exception('ANALYTICS_MYSQL credentials not found')\n",
    "\n",
    "def get_engine(game):\n",
    "    database_name = '%s_upcache' % game\n",
    "    return create_engine(f'mysql://analytics1:{ANALYTICS_MYSQL_PASSWORD}@{ANALYTICS_MYSQL_ENDPOINT}/{database_name}', connect_args={'connect_timeout': 10})\n",
    "\n",
    "def get_quarter_time_boundaries(timestamp):\n",
    "    q = {}\n",
    "    q['start'] = 1640217600\n",
    "    q['end'] = q['start'] + (86400 * 7 * 14) # 14 weeks, 13 weeks for the quarter, plus one trailing week\n",
    "    while not (timestamp >= q['start'] and timestamp <= q['end']):\n",
    "        q['start'] = q['end']\n",
    "        q['end'] = q['start'] + (86400 * 7 * 14)\n",
    "    return q\n",
    "\n",
    "def get_maintenance_okr_gold_stock_avg_sql(game, start_time, end_time, level):\n",
    "    return \"\"\"SELECT 86400*ROUND(time/86400) AS `day`,\n",
    "              IF(SUM(num_players)>0,SUM(total_amount)/SUM(num_players),NULL) AS `average`\n",
    "              FROM %s_active_player_resource_levels\n",
    "              WHERE resource = 'gamebucks'\n",
    "              AND time >= %d AND time < %d\n",
    "              AND country_tier IN ('1' , '2')\n",
    "              AND townhall_level >= %d\n",
    "              GROUP BY `Day` ORDER BY `Day` ASC LIMIT 1000;\"\"\" % (game, start_time, end_time, level)\n",
    "\n",
    "\n",
    "\n",
    "time_now = int(time.time())\n",
    "quarter_boundaries = get_quarter_time_boundaries(time_now)\n",
    "start_time = quarter_boundaries['start']\n",
    "end_time = quarter_boundaries['end']\n",
    "\n",
    "# prepare maintenance OKR data\n",
    "\n",
    "engine = get_engine('tr')\n",
    "maintenance_okr_gold_stock_avg_sql = get_maintenance_okr_gold_stock_avg_sql('tr', start_time, end_time, 5)\n",
    "maintenance_okr_gold_stock_avg_data  = pd.read_sql(maintenance_okr_gold_stock_avg_sql, engine)\n",
    "\n",
    "print(f\"Dashboard updated %s\" % time.strftime('%a, %d %b %Y at %H:%M:%S UTC', time.gmtime()))"
   ]
  },
  {
   "cell_type": "code",
   "execution_count": 2,
   "metadata": {},
   "outputs": [
    {
     "name": "stdout",
     "output_type": "stream",
     "text": [
      "TR Gold Stock Average CCL5+ Tier 1/2 vs. previous quarter\n",
      "Week         Average Gold Stock\n",
      "2021-12-30   1866    \n",
      "2022-01-06   1769    \n",
      "2022-01-13   1661    \n",
      "2022-01-20   1462    \n",
      "2022-01-27   1466    \n",
      "2022-02-03   1469    \n",
      "2022-02-10   1421    \n",
      "2022-02-17   1411    \n",
      "2022-02-24   1385    \n",
      "2022-03-03   1329    \n",
      "2022-03-10   1331    \n"
     ]
    }
   ],
   "source": [
    "# maintenance OKR display\n",
    "boundaries = get_quarter_time_boundaries(time_now)\n",
    "diplay_boundaries = get_quarter_time_boundaries(time_now)\n",
    "diplay_boundaries['start'] = diplay_boundaries['start'] + 86400*7\n",
    "print('TR Gold Stock Average CCL5+ Tier 1/2 vs. previous quarter')\n",
    "header = \"{0:12} {1:8}\".format('Week', 'Average Gold Stock')\n",
    "print(header)\n",
    "for i, day in enumerate(maintenance_okr_gold_stock_avg_data['day']):\n",
    "    if day < boundaries['start'] or day > boundaries['end']: continue\n",
    "    output_date = datetime.datetime.utcfromtimestamp(day).strftime('%Y-%m-%d')\n",
    "    if day < diplay_boundaries['start'] or day > diplay_boundaries['end']: continue\n",
    "    if datetime.datetime.utcfromtimestamp(day).strftime('%A') == 'Thursday':\n",
    "        output_line = \"{0:12} {1:8}\".format(output_date, str(int(maintenance_okr_gold_stock_avg_data['average'][i])))\n",
    "        print(output_line)"
   ]
  },
  {
   "cell_type": "code",
   "execution_count": null,
   "metadata": {},
   "outputs": [],
   "source": []
  }
 ],
 "metadata": {
  "kernelspec": {
   "display_name": "Python 3",
   "language": "python",
   "name": "python3"
  },
  "language_info": {
   "codemirror_mode": {
    "name": "ipython",
    "version": 3
   },
   "file_extension": ".py",
   "mimetype": "text/x-python",
   "name": "python",
   "nbconvert_exporter": "python",
   "pygments_lexer": "ipython3",
   "version": "3.8.8"
  }
 },
 "nbformat": 4,
 "nbformat_minor": 4
}
