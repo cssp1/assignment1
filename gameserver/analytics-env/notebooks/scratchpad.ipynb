{
 "cells": [
  {
   "cell_type": "code",
   "execution_count": 7,
   "metadata": {},
   "outputs": [],
   "source": [
    "# setup\n",
    "import time, os, calendar, sys\n",
    "import envkey\n",
    "import pandas as pd\n",
    "import numpy as np\n",
    "import matplotlib.pyplot as plt\n",
    "import matplotlib.dates as mdates\n",
    "%matplotlib inline\n",
    "from pandas.plotting import register_matplotlib_converters\n",
    "import seaborn as sns\n",
    "from sqlalchemy.engine import create_engine\n",
    "import math\n",
    "import datetime\n",
    "\n",
    "# allow importing modules from ../..\n",
    "sys.path.insert(1, os.path.join(sys.path[0], '../..'))\n",
    "\n",
    "register_matplotlib_converters()\n",
    "sns.set(rc={'figure.figsize':(11, 4)})\n",
    "\n",
    "ANALYTICS_MYSQL_ENDPOINT = os.getenv('ANALYTICS_MYSQL_ENDPOINT')\n",
    "ANALYTICS_MYSQL_PASSWORD = os.getenv('ANALYTICS_MYSQL_PASSWORD')\n",
    "\n",
    "if not (ANALYTICS_MYSQL_ENDPOINT and ANALYTICS_MYSQL_PASSWORD):\n",
    "    raise Exception('ANALYTICS_MYSQL credentials not found')\n",
    "\n",
    "def get_engine(game):\n",
    "    database_name = '%s_upcache' % game\n",
    "    return create_engine(f'mysql://analytics1:{ANALYTICS_MYSQL_PASSWORD}@{ANALYTICS_MYSQL_ENDPOINT}/{database_name}', connect_args={'connect_timeout': 10})\n",
    "\n",
    "\n",
    "scratch_sql = \"\"\"SELECT user_id, price, item\n",
    "                 FROM `tr_store` AS prev\n",
    "                 WHERE time < 1647740915 and item = 'airstrike_moab'\n",
    "                 AND currency = 'item:token'\n",
    "                 ;\"\"\""
   ]
  },
  {
   "cell_type": "code",
   "execution_count": 8,
   "metadata": {},
   "outputs": [],
   "source": [
    "engine = get_engine('tr')\n",
    "scratch_data = pd.read_sql(scratch_sql, engine)"
   ]
  },
  {
   "cell_type": "code",
   "execution_count": 18,
   "metadata": {},
   "outputs": [
    {
     "name": "stdout",
     "output_type": "stream",
     "text": [
      "     user_id    price            item\n",
      "0    3142323  1500000  airstrike_moab\n",
      "1    3276297  1500000  airstrike_moab\n",
      "2    2786004  1500000  airstrike_moab\n",
      "3    1085695  1500000  airstrike_moab\n",
      "4    4107209  1500000  airstrike_moab\n",
      "..       ...      ...             ...\n",
      "169  3816587  1500000  airstrike_moab\n",
      "170  2819019  1500000  airstrike_moab\n",
      "171  3550973  1500000  airstrike_moab\n",
      "172  3128731  1500000  airstrike_moab\n",
      "173   786711  1500000  airstrike_moab\n",
      "\n",
      "[174 rows x 3 columns]\n",
      "{3142323: 1, 3276297: 1, 2786004: 1, 1085695: 1, 4107209: 1, 4199910: 2, 2379669: 2, 4053019: 1, 3848789: 2, 4106546: 1, 3144897: 1, 2250555: 1, 593352: 1, 10813: 1, 183374: 1, 1815999: 1, 2313707: 1, 1068444: 3, 4188241: 1, 4061418: 1, 3586429: 1, 1707045: 1, 2318670: 2, 1597526: 2, 1565799: 1, 3626546: 2, 2976981: 1, 540203: 2, 122209: 1, 3724678: 1, 3969156: 1, 2418632: 1, 2592441: 1, 2992793: 2, 2993214: 1, 4152481: 1, 3290994: 1, 175223: 2, 4175372: 1, 786711: 2, 2880403: 1, 2221375: 1, 3668879: 1, 1467146: 2, 2910684: 1, 4176431: 1, 3225349: 1, 4186326: 1, 4088420: 1, 3848262: 1, 2317884: 3, 3741310: 1, 2282250: 1, 1968175: 1, 3344203: 1, 2914940: 1, 3861772: 1, 3760567: 1, 3516651: 1, 889913: 1, 2350091: 1, 435669: 2, 659427: 2, 4165209: 1, 1219084: 1, 3710393: 1, 3270968: 1, 991556: 1, 3513146: 1, 2517162: 1, 3976270: 1, 2653724: 1, 393816: 2, 1714301: 1, 4086879: 1, 3831336: 1, 3600112: 1, 1647018: 1, 4118191: 1, 1652090: 1, 67991: 2, 171539: 1, 3137021: 1, 3246795: 1, 3606487: 1, 532881: 1, 4062728: 1, 2947241: 1, 3187702: 1, 2748212: 1, 1446489: 2, 1296806: 1, 1457320: 1, 2133803: 1, 2834783: 1, 121038: 1, 41981: 1, 4114625: 1, 4184577: 1, 2121493: 1, 3314046: 1, 2406538: 1, 4000033: 1, 3578547: 1, 3167400: 1, 1148519: 1, 4150651: 1, 3333421: 1, 3769929: 1, 4210695: 1, 1077525: 1, 4096509: 1, 367161: 1, 372746: 1, 4094210: 1, 1807900: 1, 3786556: 1, 3605010: 1, 329670: 1, 85876: 1, 4191239: 1, 3070788: 1, 2354767: 1, 3362610: 1, 3583159: 1, 3679153: 1, 4048234: 1, 4055386: 1, 1894500: 1, 3123906: 1, 1676207: 1, 4093091: 1, 4051923: 1, 3876072: 1, 1159874: 1, 4177486: 1, 2672924: 1, 2612198: 1, 3456547: 1, 4164366: 1, 215326: 1, 803791: 1, 3984552: 1, 3154286: 1, 88659: 1, 3045243: 1, 4187802: 1, 3176500: 1, 607097: 1, 3919068: 1, 3816587: 1, 2819019: 1, 3550973: 1, 3128731: 1}\n",
      "154\n"
     ]
    }
   ],
   "source": [
    "print(scratch_data)\n",
    "\n",
    "users = {}\n",
    "\n",
    "for i, name in enumerate(scratch_data['user_id']):\n",
    "    user = scratch_data['user_id'][i]\n",
    "    if user not in users:\n",
    "        users[user] = 1\n",
    "    else:\n",
    "        users[user] += 1\n",
    "        \n",
    "print(users)\n",
    "\n",
    "print(len(users))\n"
   ]
  },
  {
   "cell_type": "code",
   "execution_count": null,
   "metadata": {},
   "outputs": [],
   "source": []
  }
 ],
 "metadata": {
  "kernelspec": {
   "display_name": "Python 3",
   "language": "python",
   "name": "python3"
  },
  "language_info": {
   "codemirror_mode": {
    "name": "ipython",
    "version": 3
   },
   "file_extension": ".py",
   "mimetype": "text/x-python",
   "name": "python",
   "nbconvert_exporter": "python",
   "pygments_lexer": "ipython3",
   "version": "3.8.8"
  }
 },
 "nbformat": 4,
 "nbformat_minor": 4
}
