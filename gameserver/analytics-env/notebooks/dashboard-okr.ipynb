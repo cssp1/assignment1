{
 "cells": [
  {
   "cell_type": "code",
   "execution_count": 7,
   "metadata": {},
   "outputs": [
    {
     "name": "stdout",
     "output_type": "stream",
     "text": [
      "Battlehouse OKRs\n",
      "\n"
     ]
    },
    {
     "data": {
      "text/html": [
       "<p><a href = \"https://dashboards.spinpunch.com/dashboard_okr_growth.html\">Growth OKRs</a></p>"
      ],
      "text/plain": [
       "<IPython.core.display.HTML object>"
      ]
     },
     "metadata": {},
     "output_type": "display_data"
    },
    {
     "data": {
      "text/html": [
       "<p><a href = \"https://dashboards.spinpunch.com/dashboard_okr_retention.html\">Retention OKRs</a></p>"
      ],
      "text/plain": [
       "<IPython.core.display.HTML object>"
      ]
     },
     "metadata": {},
     "output_type": "display_data"
    },
    {
     "data": {
      "text/html": [
       "<p><a href = \"https://dashboards.spinpunch.com/dashboard_okr_game_content.html\">Game Content OKRs</a></p>"
      ],
      "text/plain": [
       "<IPython.core.display.HTML object>"
      ]
     },
     "metadata": {},
     "output_type": "display_data"
    },
    {
     "data": {
      "text/html": [
       "<p><a href = \"https://dashboards.spinpunch.com/dashboard_okr_maintenance_1.html\">Maintenance OKRs (1 of 6)</a></p>"
      ],
      "text/plain": [
       "<IPython.core.display.HTML object>"
      ]
     },
     "metadata": {},
     "output_type": "display_data"
    },
    {
     "data": {
      "text/html": [
       "<p><a href = \"https://dashboards.spinpunch.com/dashboard_okr_maintenance_2.html\">Maintenance OKRs (2 of 6)</a></p>"
      ],
      "text/plain": [
       "<IPython.core.display.HTML object>"
      ]
     },
     "metadata": {},
     "output_type": "display_data"
    },
    {
     "data": {
      "text/html": [
       "<p><a href = \"https://dashboards.spinpunch.com/dashboard_okr_maintenance_3.html\">Maintenance OKRs (3 of 6)</a></p>"
      ],
      "text/plain": [
       "<IPython.core.display.HTML object>"
      ]
     },
     "metadata": {},
     "output_type": "display_data"
    },
    {
     "data": {
      "text/html": [
       "<p><a href = \"https://dashboards.spinpunch.com/dashboard_okr_maintenance_4.html\">Maintenance OKRs (4 of 6)</a></p>"
      ],
      "text/plain": [
       "<IPython.core.display.HTML object>"
      ]
     },
     "metadata": {},
     "output_type": "display_data"
    },
    {
     "data": {
      "text/html": [
       "<p><a href = \"https://dashboards.spinpunch.com/dashboard_okr_maintenance_5.html\">Maintenance OKRs (5 of 6)</a></p>"
      ],
      "text/plain": [
       "<IPython.core.display.HTML object>"
      ]
     },
     "metadata": {},
     "output_type": "display_data"
    },
    {
     "data": {
      "text/html": [
       "<p><a href = \"https://dashboards.spinpunch.com/dashboard_okr_maintenance_6.html\">Maintenance OKRs (6 of 6)</a></p>"
      ],
      "text/plain": [
       "<IPython.core.display.HTML object>"
      ]
     },
     "metadata": {},
     "output_type": "display_data"
    }
   ],
   "source": [
    "from IPython.core.display import display, HTML\n",
    "print('Battlehouse OKRs')\n",
    "print('')\n",
    "\n",
    "\n",
    "display(HTML('<p><a href = \"https://dashboards.spinpunch.com/dashboard_okr_growth.html\">Growth OKRs</a></p>'))\n",
    "display(HTML('<p><a href = \"https://dashboards.spinpunch.com/dashboard_okr_retention.html\">Retention OKRs</a></p>'))\n",
    "display(HTML('<p><a href = \"https://dashboards.spinpunch.com/dashboard_okr_game_content.html\">Game Content OKRs</a></p>'))\n",
    "display(HTML('<p><a href = \"https://dashboards.spinpunch.com/dashboard_okr_maintenance_1.html\">Maintenance OKRs (1 of 6)</a></p>'))\n",
    "display(HTML('<p><a href = \"https://dashboards.spinpunch.com/dashboard_okr_maintenance_2.html\">Maintenance OKRs (2 of 6)</a></p>'))\n",
    "display(HTML('<p><a href = \"https://dashboards.spinpunch.com/dashboard_okr_maintenance_3.html\">Maintenance OKRs (3 of 6)</a></p>'))\n",
    "display(HTML('<p><a href = \"https://dashboards.spinpunch.com/dashboard_okr_maintenance_4.html\">Maintenance OKRs (4 of 6)</a></p>'))\n",
    "display(HTML('<p><a href = \"https://dashboards.spinpunch.com/dashboard_okr_maintenance_5.html\">Maintenance OKRs (5 of 6)</a></p>'))\n",
    "display(HTML('<p><a href = \"https://dashboards.spinpunch.com/dashboard_okr_maintenance_6.html\">Maintenance OKRs (6 of 6)</a></p>'))"
   ]
  },
  {
   "cell_type": "code",
   "execution_count": 2,
   "metadata": {},
   "outputs": [],
   "source": []
  },
  {
   "cell_type": "code",
   "execution_count": null,
   "metadata": {},
   "outputs": [],
   "source": []
  }
 ],
 "metadata": {
  "kernelspec": {
   "display_name": "Python 3",
   "language": "python",
   "name": "python3"
  },
  "language_info": {
   "codemirror_mode": {
    "name": "ipython",
    "version": 3
   },
   "file_extension": ".py",
   "mimetype": "text/x-python",
   "name": "python",
   "nbconvert_exporter": "python",
   "pygments_lexer": "ipython3",
   "version": "3.8.8"
  }
 },
 "nbformat": 4,
 "nbformat_minor": 4
}
