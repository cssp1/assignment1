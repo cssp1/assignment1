{
 "cells": [
  {
   "cell_type": "code",
   "execution_count": 1,
   "metadata": {},
   "outputs": [],
   "source": [
    "# BadukPop Analytics Dashboard\n",
    "\n",
    "# setup\n",
    "import time, os, calendar, sys, datetime\n",
    "import envkey\n",
    "import pandas as pd\n",
    "import numpy as np\n",
    "from pandas.plotting import register_matplotlib_converters\n",
    "import seaborn as sns\n",
    "from sqlalchemy.engine import create_engine\n",
    "import math\n",
    "\n",
    "# allow importing modules from ../..\n",
    "sys.path.insert(1, os.path.join(sys.path[0], '../..'))\n",
    "\n",
    "register_matplotlib_converters()\n",
    "sns.set(rc={'figure.figsize':(11, 4)})\n",
    "\n",
    "ANALYTICS_MYSQL_ENDPOINT = os.getenv('ANALYTICS_MYSQL_ENDPOINT')\n",
    "ANALYTICS_MYSQL_PASSWORD = os.getenv('ANALYTICS_MYSQL_PASSWORD')\n",
    "\n",
    "if not (ANALYTICS_MYSQL_ENDPOINT and ANALYTICS_MYSQL_PASSWORD):\n",
    "    raise Exception('ANALYTICS_MYSQL credentials not found')\n",
    "\n",
    "engine = create_engine(f'mysql://analytics1:{ANALYTICS_MYSQL_PASSWORD}@{ANALYTICS_MYSQL_ENDPOINT}/tr_upcache', connect_args={'connect_timeout': 10})\n",
    "\n",
    "def get_quarter_time_boundaries(timestamp):\n",
    "    q = {}\n",
    "    q['start'] = 1640217600\n",
    "    q['end'] = q['start'] + (86400 * 7 * 14) # 14 weeks, 13 weeks for the quarter, plus one trailing week\n",
    "    while not (timestamp >= q['start'] and timestamp <= q['end']):\n",
    "        q['start'] = q['end']\n",
    "        q['end'] = q['start'] + (86400 * 7 * 14)\n",
    "    return q\n",
    "\n",
    "def get_dau_sql(game,start_time,end_time,frame_platform=None):\n",
    "    frame_platform_sql = ''\n",
    "    if frame_platform:\n",
    "        frame_platform_sql = \"AND acq.frame_platform = '%s'\" % frame_platform\n",
    "    dau_sql = \"\"\"\n",
    "    SELECT master.day AS `day`,\n",
    "    (SELECT ROUND(SUM(dau)/3)\n",
    "    FROM %s_upcache.%s_sessions_daily_summary AS acq\n",
    "    WHERE acq.day >= master.day - 3*86400\n",
    "    AND acq.day < master.day\n",
    "    %s\n",
    "    AND acq.country_tier IN ('1','2')) AS `dau`\n",
    "    FROM skynet.bh_daily_summary master\n",
    "    WHERE master.day >= %d - 90*86400\n",
    "    AND master.day < %d\n",
    "    GROUP BY master.day;\n",
    "    \"\"\" % (game, game, frame_platform_sql,start_time,end_time)\n",
    "    return dau_sql"
   ]
  },
  {
   "cell_type": "code",
   "execution_count": 2,
   "metadata": {},
   "outputs": [],
   "source": [
    "time_now = int(time.time())\n",
    "quarter_boundaries = get_quarter_time_boundaries(time_now)\n",
    "start_time = quarter_boundaries['start']\n",
    "end_time = quarter_boundaries['end']\n",
    "\n",
    "game_frames = {'tr':['fb','bh','k2'],'fs':['bh']}\n",
    "dau = {}\n",
    "\n",
    "for game in ['tr','dv','mf2','bfm','mf','fs']:\n",
    "    if game in game_frames:\n",
    "        for frame in game_frames[game]:\n",
    "            dau_sql = get_dau_sql(game,start_time,end_time,frame)\n",
    "            dau_data = pd.read_sql(dau_sql, engine)\n",
    "            if 'day' not in dau:\n",
    "                dau['day'] = []\n",
    "                for day in dau_data['day']:\n",
    "                    dau['day'].append(day)\n",
    "            key = game.upper() + ' (' +  frame.upper() + ')'\n",
    "            dau[key] = []\n",
    "            for day in dau_data['dau']:\n",
    "                dau[key].append(day)\n",
    "            if 'total' not in dau:\n",
    "                dau['total'] = []\n",
    "                for day in dau_data['dau']:\n",
    "                    dau['total'].append(day)\n",
    "            else:\n",
    "                for i, day in enumerate(dau_data['dau']):\n",
    "                    dau['total'][i] += day\n",
    "    else:\n",
    "        dau_sql = get_dau_sql(game,start_time,end_time)\n",
    "        dau_data = pd.read_sql(dau_sql, engine)\n",
    "        if 'day' not in dau:\n",
    "            dau['day'] = []\n",
    "            for day in dau_data['day']:\n",
    "                dau['day'].append(day)\n",
    "        key = game.upper()\n",
    "        dau[key] = []\n",
    "        for day in dau_data['dau']:\n",
    "            dau[key].append(day)\n",
    "        if 'total' not in dau:\n",
    "            dau['total'] = []\n",
    "            for day in dau_data['dau']:\n",
    "                dau['total'].append(day)\n",
    "        else:\n",
    "            for i, day in enumerate(dau_data['dau']):\n",
    "                dau['total'][i] += day"
   ]
  },
  {
   "cell_type": "code",
   "execution_count": 3,
   "metadata": {},
   "outputs": [
    {
     "name": "stdout",
     "output_type": "stream",
     "text": [
      "All Game Tier 1/2 DAU, average of trailing 3 days\n",
      "2021-12-30: 2735\n",
      "2022-01-06: 2778\n",
      "2022-01-13: 2776\n"
     ]
    }
   ],
   "source": [
    "print('All Game Tier 1/2 DAU, average of trailing 3 days')\n",
    "boundaries = get_quarter_time_boundaries(time.time())\n",
    "boundaries['start'] = boundaries['start'] + 86400*7\n",
    "for i, day in enumerate(dau['day']):\n",
    "    if day < boundaries['start'] or day > boundaries['end']: continue\n",
    "    if datetime.datetime.utcfromtimestamp(day).strftime('%A') == 'Thursday':\n",
    "        print(datetime.datetime.utcfromtimestamp(day).strftime('%Y-%m-%d') + ': ' + str(int(dau['total'][i])))"
   ]
  },
  {
   "cell_type": "code",
   "execution_count": 6,
   "metadata": {},
   "outputs": [
    {
     "name": "stdout",
     "output_type": "stream",
     "text": [
      "Change since last week (if any)\n",
      "2021-12-30:  TR (FB): 12, TR (BH): -1, TR (K2): 2, MF2: 2, BFM: 3, MF: 6, FS (BH): 4,\n",
      "2022-01-06:  TR (FB): -6, TR (BH): -1, DV: 3, MF2: 11, BFM: 1, MF: 3, FS (BH): 1,\n",
      "2022-01-13:  TR (FB): 8, DV: 4, MF2: -1, BFM: -2, MF: 5, FS (BH): 2,\n"
     ]
    }
   ],
   "source": [
    "print('Change since last week (if any)')\n",
    "\n",
    "boundaries = get_quarter_time_boundaries(time.time())\n",
    "boundaries['start'] = boundaries['start'] + 86400*7\n",
    "game_frames = {'tr':['fb','bh','k2'],'fs':['bh']}\n",
    "for i, day in enumerate(dau['day']):\n",
    "    if day < boundaries['start'] or day > boundaries['end']: continue\n",
    "    if datetime.datetime.utcfromtimestamp(day).strftime('%A') == 'Thursday':\n",
    "        output_line = datetime.datetime.utcfromtimestamp(day).strftime('%Y-%m-%d') + ': '\n",
    "        total_changes = 0\n",
    "        for game in ['tr','dv','mf2','bfm','mf','fs']:\n",
    "            if game in game_frames:\n",
    "                for frame in game_frames[game]:\n",
    "                    key = game.upper() + ' (' +  frame.upper() + ')'\n",
    "                    this_week = int(dau[key][i])\n",
    "                    last_week = int(dau[key][i-1])\n",
    "                    change = this_week - last_week\n",
    "                    if change != 0:\n",
    "                        if change > 0:\n",
    "                            output_line += ' %s: %d,' % (key, change)\n",
    "                        else:\n",
    "                        total_changes += 1\n",
    "            else:\n",
    "                key = game.upper()\n",
    "                this_week = dau[key][i]\n",
    "                last_week = dau[key][i-1]\n",
    "                change = this_week - last_week\n",
    "                if change != 0:\n",
    "                    output_line += ' %s: %d,' % (key, change)\n",
    "                    total_changes += 1\n",
    "        if total_changes == 0:\n",
    "            output_line += 'No Change'\n",
    "        print(output_line)"
   ]
  },
  {
   "cell_type": "code",
   "execution_count": null,
   "metadata": {},
   "outputs": [],
   "source": []
  },
  {
   "cell_type": "code",
   "execution_count": null,
   "metadata": {},
   "outputs": [],
   "source": []
  },
  {
   "cell_type": "code",
   "execution_count": null,
   "metadata": {},
   "outputs": [],
   "source": []
  }
 ],
 "metadata": {
  "kernelspec": {
   "display_name": "Python 3",
   "language": "python",
   "name": "python3"
  },
  "language_info": {
   "codemirror_mode": {
    "name": "ipython",
    "version": 3
   },
   "file_extension": ".py",
   "mimetype": "text/x-python",
   "name": "python",
   "nbconvert_exporter": "python",
   "pygments_lexer": "ipython3",
   "version": "3.8.8"
  }
 },
 "nbformat": 4,
 "nbformat_minor": 4
}
