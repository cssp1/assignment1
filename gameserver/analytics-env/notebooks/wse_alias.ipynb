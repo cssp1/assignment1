{
 "cells": [
  {
   "cell_type": "code",
   "execution_count": 1,
   "metadata": {},
   "outputs": [],
   "source": [
    "# setup\n",
    "import time, os, calendar, sys\n",
    "import envkey\n",
    "import pandas as pd\n",
    "import numpy as np\n",
    "import matplotlib.pyplot as plt\n",
    "import matplotlib.dates as mdates\n",
    "%matplotlib inline\n",
    "from pandas.plotting import register_matplotlib_converters\n",
    "import seaborn as sns\n",
    "from sqlalchemy.engine import create_engine\n",
    "import math\n",
    "import datetime\n",
    "\n",
    "# allow importing modules from ../..\n",
    "sys.path.insert(1, os.path.join(sys.path[0], '../..'))\n",
    "\n",
    "register_matplotlib_converters()\n",
    "sns.set(rc={'figure.figsize':(11, 4)})\n",
    "\n",
    "ANALYTICS_MYSQL_ENDPOINT = os.getenv('ANALYTICS_MYSQL_ENDPOINT')\n",
    "ANALYTICS_MYSQL_PASSWORD = os.getenv('ANALYTICS_MYSQL_PASSWORD')\n",
    "\n",
    "if not (ANALYTICS_MYSQL_ENDPOINT and ANALYTICS_MYSQL_PASSWORD):\n",
    "    raise Exception('ANALYTICS_MYSQL credentials not found')\n",
    "\n",
    "def get_engine(game):\n",
    "    database_name = '%s_upcache' % game\n",
    "    return create_engine(f'mysql://analytics1:{ANALYTICS_MYSQL_PASSWORD}@{ANALYTICS_MYSQL_ENDPOINT}/{database_name}', connect_args={'connect_timeout': 10})\n",
    "\n",
    "\n",
    "scratch_sql = \"\"\"SELECT user_id, alias\n",
    "                 FROM mf2_upcache\n",
    "                 WHERE alias like '%%ajmal%%'\n",
    "                 \"\"\"\n",
    "\n",
    "engine = get_engine('mf2')\n",
    "scratch_data = pd.read_sql(scratch_sql, engine)\n",
    "print(scratch_data)"
   ]
  }
 ],
 "metadata": {
  "kernelspec": {
   "display_name": "Python 3",
   "language": "python",
   "name": "python3"
  },
  "language_info": {
   "codemirror_mode": {
    "name": "ipython",
    "version": 3
   },
   "file_extension": ".py",
   "mimetype": "text/x-python",
   "name": "python",
   "nbconvert_exporter": "python",
   "pygments_lexer": "ipython3",
   "version": "3.8.8"
  }
 },
 "nbformat": 4,
 "nbformat_minor": 4
}
