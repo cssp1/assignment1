{
 "cells": [
  {
   "cell_type": "code",
   "execution_count": 1,
   "metadata": {},
   "outputs": [],
   "source": [
    "# BadukPop Analytics Dashboard\n",
    "\n",
    "# setup\n",
    "import time, os, calendar, sys, datetime\n",
    "import envkey\n",
    "import pandas as pd\n",
    "import numpy as np\n",
    "from pandas.plotting import register_matplotlib_converters\n",
    "import seaborn as sns\n",
    "from sqlalchemy.engine import create_engine\n",
    "import math\n",
    "\n",
    "# allow importing modules from ../..\n",
    "sys.path.insert(1, os.path.join(sys.path[0], '../..'))\n",
    "\n",
    "register_matplotlib_converters()\n",
    "sns.set(rc={'figure.figsize':(11, 4)})\n",
    "\n",
    "ANALYTICS_MYSQL_ENDPOINT = os.getenv('ANALYTICS_MYSQL_ENDPOINT')\n",
    "ANALYTICS_MYSQL_PASSWORD = os.getenv('ANALYTICS_MYSQL_PASSWORD')\n",
    "\n",
    "if not (ANALYTICS_MYSQL_ENDPOINT and ANALYTICS_MYSQL_PASSWORD):\n",
    "    raise Exception('ANALYTICS_MYSQL credentials not found')\n",
    "\n",
    "def get_quarter_time_boundaries(timestamp):\n",
    "    q = {}\n",
    "    q['start'] = 1640217600\n",
    "    q['end'] = q['start'] + (86400 * 7 * 14) # 14 weeks, 13 weeks for the quarter, plus one trailing week\n",
    "    while not (timestamp >= q['start'] and timestamp <= q['end']):\n",
    "        q['start'] = q['end']\n",
    "        q['end'] = q['start'] + (86400 * 7 * 14)\n",
    "    return q\n",
    "\n",
    "def get_retention_sql(game,start_time,end_time,time_now):\n",
    "    return \"\"\"SELECT  1337274000 + 14*86400*(1+FLOOR((account_creation_time + 8*86400 - 1337274000)/(14*86400))) AS pvp_week_end,\n",
    "    IF(country_tier IN ('1','2'), 'T12', 'T34') AS tier,\n",
    "    IF(IFNULL(acquisition_campaign,'MISSING') LIKE '%s' OR acquisition_campaign LIKE '%s', 'Paid', 'Free') AS acquisition_type,\n",
    "    COUNT(1) as N,\n",
    "    ROUND(SUM(IF(toc_level >= 2,1,0)) / SUM(1), 2) AS `TOC L2`,\n",
    "    ROUND(SUM(IF(`returned_24-48h`,1,0)) / SUM(1), 2) AS `1-day Return`,\n",
    "    ROUND(SUM(IF(`returned_48-72h`,1,0)) / SUM(1), 2) AS `2-day Return`,\n",
    "    ROUND(SUM(IF(`returned_72-96h`,1,0)) / SUM(1), 2) AS `3-day Return`,\n",
    "    ROUND(SUM(IF(`returned_120-144h`,1,0)) / SUM(1), 2) AS `5-day Return`,\n",
    "    ROUND(SUM(IF(`returned_168-192h`,1,0)) / SUM(1), 2) AS `7-day Return`\n",
    "    FROM `%s_upcache`\n",
    "    WHERE account_creation_time + 8*86400 >= %d - 14*86400\n",
    "    AND account_creation_time + 8*86400 < LEAST(%d, %d)\n",
    "    GROUP BY `pvp_week_end`, tier, acquisition_type\n",
    "    HAVING pvp_week_end < %d;\"\"\" % ('%%_SRD','%%_GG',game,start_time,time_now,end_time,time_now)"
   ]
  },
  {
   "cell_type": "code",
   "execution_count": 2,
   "metadata": {},
   "outputs": [
    {
     "name": "stdout",
     "output_type": "stream",
     "text": [
      "[1639674000, 1640883600, 1642093200]\n"
     ]
    }
   ],
   "source": [
    "time_now = int(time.time())\n",
    "quarter_boundaries = get_quarter_time_boundaries(time_now)\n",
    "start_time = quarter_boundaries['start']\n",
    "end_time = quarter_boundaries['end']\n",
    "\n",
    "retention_data = {'tr':{},'dv':{}}\n",
    "retention_weeks = []\n",
    "for game in ('tr','dv'):\n",
    "    game_cache = '%s_upcache' % game\n",
    "    engine = create_engine(f'mysql://analytics1:{ANALYTICS_MYSQL_PASSWORD}@{ANALYTICS_MYSQL_ENDPOINT}/{game_cache}', connect_args={'connect_timeout': 10})\n",
    "    retention_sql = get_retention_sql(game,start_time,end_time,time_now)\n",
    "    with engine.connect() as con:\n",
    "        rs = con.execute(retention_sql)\n",
    "        for row in rs:\n",
    "            this_data = {}\n",
    "            this_data['week'] = int(row[0])\n",
    "            if int(row[0]) not in retention_weeks:\n",
    "                retention_weeks.append(int(row[0]))\n",
    "            this_data['tier'] = row[1]\n",
    "            this_data['type'] = row[2]\n",
    "            this_data['n'] = str(row[3])\n",
    "            this_data['tocL2'] = '{0:.0%}'.format(row[4])\n",
    "            this_data['1D'] = '{0:.0%}'.format(row[5])\n",
    "            this_data['2D'] = '{0:.0%}'.format(row[6])\n",
    "            this_data['3D'] = '{0:.0%}'.format(row[7])\n",
    "            this_data['5D'] = '{0:.0%}'.format(row[8])\n",
    "            this_data['7D'] = '{0:.0%}'.format(row[9])\n",
    "            data_index = str(int(row[0])) + row[1]\n",
    "            retention_data[game][data_index] = this_data"
   ]
  },
  {
   "cell_type": "code",
   "execution_count": 3,
   "metadata": {},
   "outputs": [
    {
     "name": "stdout",
     "output_type": "stream",
     "text": [
      "TR Retention (for accounts 8+ days old) * only updated every 2 weeks\n",
      "Week         Tier  Type   N      TOC L2   1-day    2-day    3-day    5-day    7-day   \n",
      "2021-12-16   T12   Free   11     27%      18%      9%       9%       9%       0%      \n",
      "2021-12-16   T34   Free   34     59%      18%      21%      18%      18%      18%     \n",
      "2021-12-30   T12   Free   33     45%      12%      9%       15%      12%      12%     \n",
      "2021-12-30   T34   Free   61     69%      28%      28%      25%      20%      18%     \n",
      "2022-01-13   T12   Free   18     56%      33%      28%      22%      22%      11%     \n",
      "2022-01-13   T34   Free   68     71%      22%      18%      12%      13%      12%     \n",
      "\n",
      "DV Retention (for accounts 8+ days old) * only updated every 2 weeks\n",
      "Week         Tier  Type   N      TOC L2   1-day    2-day    3-day    5-day    7-day   \n",
      "2021-12-16   T12   Free   1      100%     0%       0%       0%       0%       0%      \n",
      "2021-12-16   T34   Free   5      80%      20%      0%       20%      20%      40%     \n",
      "2021-12-30   T12   Free   3      100%     67%      67%      67%      67%      67%     \n",
      "2021-12-30   T34   Free   5      100%     0%       0%       0%       20%      0%      \n",
      "2022-01-13   T12   Free   3      67%      33%      67%      33%      33%      33%     \n",
      "2022-01-13   T34   Free   10     40%      10%      10%      20%      20%      10%     \n",
      "\n"
     ]
    }
   ],
   "source": [
    "retention_weeks.sort()\n",
    "#print(retention_weeks)\n",
    "#print(retention_data)\n",
    "for game in ('tr','dv'):\n",
    "    print('%s Retention (for accounts 8+ days old) * only updated every 2 weeks' % game.upper())\n",
    "    header = \"{0:12} {1:5} {2:6} {3:6} {4:8} {5:8} {6:8} {7:8} {8:8} {9:8}\".format('Week', 'Tier', 'Type', 'N', 'TOC L2', '1-day', '2-day','3-day','5-day','7-day')\n",
    "    print(header)\n",
    "    for week in retention_weeks:\n",
    "        for tier in ('T12','T34'):\n",
    "            key = str(week) + tier\n",
    "            this_data = retention_data[game][key]\n",
    "            formatted_week = formatted_date = datetime.datetime.utcfromtimestamp(week).strftime('%Y-%m-%d')\n",
    "            this_row = \"{0:12} {1:5} {2:6} {3:6} {4:8} {5:8} {6:8} {7:8} {8:8} {9:8}\".format(formatted_week, this_data['tier'],this_data['type'],this_data['n'],this_data['tocL2'],\n",
    "                                                                                           this_data['1D'],this_data['2D'],this_data['3D'],this_data['5D'],this_data['7D'])\n",
    "            print(this_row)\n",
    "    print('')"
   ]
  },
  {
   "cell_type": "code",
   "execution_count": null,
   "metadata": {},
   "outputs": [],
   "source": []
  },
  {
   "cell_type": "code",
   "execution_count": null,
   "metadata": {},
   "outputs": [],
   "source": []
  },
  {
   "cell_type": "code",
   "execution_count": null,
   "metadata": {},
   "outputs": [],
   "source": []
  },
  {
   "cell_type": "code",
   "execution_count": null,
   "metadata": {},
   "outputs": [],
   "source": []
  }
 ],
 "metadata": {
  "kernelspec": {
   "display_name": "Python 3",
   "language": "python",
   "name": "python3"
  },
  "language_info": {
   "codemirror_mode": {
    "name": "ipython",
    "version": 3
   },
   "file_extension": ".py",
   "mimetype": "text/x-python",
   "name": "python",
   "nbconvert_exporter": "python",
   "pygments_lexer": "ipython3",
   "version": "3.8.8"
  }
 },
 "nbformat": 4,
 "nbformat_minor": 4
}
