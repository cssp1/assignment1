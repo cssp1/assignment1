{
 "cells": [
  {
   "cell_type": "code",
   "execution_count": 1,
   "id": "detected-royal",
   "metadata": {},
   "outputs": [],
   "source": [
    "# setup\n",
    "import time, os, calendar, sys\n",
    "import envkey\n",
    "import pandas as pd\n",
    "import numpy as np\n",
    "import matplotlib.pyplot as plt\n",
    "import matplotlib.dates as mdates\n",
    "%matplotlib inline\n",
    "from pandas.plotting import register_matplotlib_converters\n",
    "import seaborn as sns\n",
    "from sqlalchemy.engine import create_engine\n",
    "import math\n",
    "import datetime\n",
    "\n",
    "# allow importing modules from ../..\n",
    "sys.path.insert(1, os.path.join(sys.path[0], '../..'))\n",
    "\n",
    "register_matplotlib_converters()\n",
    "sns.set(rc={'figure.figsize':(11, 4)})\n",
    "\n",
    "ANALYTICS_MYSQL_ENDPOINT = os.getenv('ANALYTICS_MYSQL_ENDPOINT')\n",
    "ANALYTICS_MYSQL_PASSWORD = os.getenv('ANALYTICS_MYSQL_PASSWORD')\n",
    "\n",
    "if not (ANALYTICS_MYSQL_ENDPOINT and ANALYTICS_MYSQL_PASSWORD):\n",
    "    raise Exception('ANALYTICS_MYSQL credentials not found')\n",
    "\n",
    "engine = create_engine(f'mysql://analytics1:{ANALYTICS_MYSQL_PASSWORD}@{ANALYTICS_MYSQL_ENDPOINT}/', connect_args={'connect_timeout': 10})\n",
    "\n",
    "scratch_sql = \"\"\"SHOW DATABASES\"\"\"\n",
    "\n",
    "scratch_data = pd.read_sql(scratch_sql, engine)\n",
    "#print(scratch_data)"
   ]
  },
  {
   "cell_type": "code",
   "execution_count": 2,
   "id": "nuclear-radio",
   "metadata": {},
   "outputs": [],
   "source": [
    "engine = create_engine(f'mysql://analytics1:{ANALYTICS_MYSQL_PASSWORD}@{ANALYTICS_MYSQL_ENDPOINT}/skynet', connect_args={'connect_timeout': 10})\n",
    "\n",
    "scratch_sql = \"\"\"SHOW TABLES\"\"\"\n",
    "scratch_data = pd.read_sql(scratch_sql, engine)\n",
    "#print(scratch_data)"
   ]
  },
  {
   "cell_type": "code",
   "execution_count": 3,
   "id": "catholic-excitement",
   "metadata": {},
   "outputs": [],
   "source": [
    "scratch_sql = \"\"\"select user_id, user_agent from bh_metrics\"\"\"\n",
    "scratch_data = pd.read_sql(scratch_sql, engine)"
   ]
  },
  {
   "cell_type": "code",
   "execution_count": 4,
   "id": "express-appearance",
   "metadata": {},
   "outputs": [
    {
     "name": "stdout",
     "output_type": "stream",
     "text": [
      "279\n"
     ]
    }
   ],
   "source": [
    "electron_count = 0\n",
    "bh_ids = []\n",
    "for i in range(0, len(scratch_data.index)):\n",
    "    id = scratch_data['user_id'][i]\n",
    "    agent = scratch_data['user_agent'][i]\n",
    "    if not agent or 'bh_electron' not in agent: continue\n",
    "    if agent == 'bh_electron_microsoft': continue\n",
    "    electron_type = agent.replace('bh_electron_{\"client_game_id\":\"thunderrun\",\"client_vendor\":\"','').replace('\",\"client_build_number\":1}','')\n",
    "    if electron_type == 'microsoft' and id not in bh_ids:\n",
    "        bh_ids.append(id)\n",
    "\n",
    "print(len(bh_ids))"
   ]
  },
  {
   "cell_type": "code",
   "execution_count": 6,
   "id": "acquired-election",
   "metadata": {},
   "outputs": [
    {
     "name": "stdout",
     "output_type": "stream",
     "text": [
      "   sum(money_spent)\n",
      "0      35805.047149\n"
     ]
    }
   ],
   "source": [
    "engine = create_engine(f'mysql://analytics1:{ANALYTICS_MYSQL_PASSWORD}@{ANALYTICS_MYSQL_ENDPOINT}/tr_upcache', connect_args={'connect_timeout': 10})\n",
    "\n",
    "scratch_sql = \"\"\"select sum(money_spent) from tr_upcache WHERE\"\"\"\n",
    "scratch_sql += ' bh_id = \"' +bh_ids[1] + '\"'\n",
    "for id in bh_ids[2:]:\n",
    "    if not id: continue\n",
    "    scratch_sql += ' OR bh_id = \"' + id + '\"'\n",
    "\n",
    "\n",
    "scratch_data = pd.read_sql(scratch_sql, engine)\n",
    "\n",
    "\n",
    "print(scratch_data)"
   ]
  },
  {
   "cell_type": "code",
   "execution_count": null,
   "id": "comfortable-corrections",
   "metadata": {},
   "outputs": [],
   "source": []
  }
 ],
 "metadata": {
  "kernelspec": {
   "display_name": "Python 3",
   "language": "python",
   "name": "python3"
  },
  "language_info": {
   "codemirror_mode": {
    "name": "ipython",
    "version": 3
   },
   "file_extension": ".py",
   "mimetype": "text/x-python",
   "name": "python",
   "nbconvert_exporter": "python",
   "pygments_lexer": "ipython3",
   "version": "3.8.8"
  }
 },
 "nbformat": 4,
 "nbformat_minor": 5
}
